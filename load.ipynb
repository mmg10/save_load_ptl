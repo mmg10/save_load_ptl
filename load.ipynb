{
 "cells": [
  {
   "cell_type": "code",
   "execution_count": 1,
   "id": "f9205285",
   "metadata": {},
   "outputs": [],
   "source": [
    "import os\n",
    "import time\n",
    "import copy\n",
    "\n",
    "\n",
    "import torch\n",
    "import torch.nn as nn\n",
    "import torch.nn.functional as F\n",
    "from torchvision import datasets, transforms\n",
    "\n",
    "import pytorch_lightning as pl\n",
    "\n",
    "\n",
    "import tableprint as tp\n",
    "import torchmetrics"
   ]
  },
  {
   "cell_type": "code",
   "execution_count": 2,
   "id": "77375082",
   "metadata": {},
   "outputs": [],
   "source": [
    "TRAIN_PATH = './data/train'\n",
    "TEST_PATH = './data/validation'\n",
    "\n",
    "img_transforms = transforms.Compose([transforms.Resize((224,224)),\n",
    "                                      transforms.ToTensor(),\n",
    "                                      transforms.Normalize([0.485, 0.456, 0.406],\n",
    "                                                           [0.229, 0.224, 0.225])])\n",
    "\n",
    "train_data = datasets.ImageFolder(TRAIN_PATH, transform=img_transforms)\n",
    "val_data = datasets.ImageFolder(TEST_PATH, transform=img_transforms)"
   ]
  },
  {
   "cell_type": "code",
   "execution_count": 3,
   "id": "c7f4abc8",
   "metadata": {},
   "outputs": [],
   "source": [
    "num_workers = 4\n",
    "batch_size = 32\n",
    "train_loader = torch.utils.data.DataLoader(train_data, batch_size=batch_size, num_workers=num_workers,shuffle=False)\n",
    "val_loader = torch.utils.data.DataLoader(val_data, batch_size=batch_size,  num_workers=num_workers)"
   ]
  },
  {
   "cell_type": "code",
   "execution_count": 4,
   "id": "6293ed82",
   "metadata": {},
   "outputs": [],
   "source": [
    "class CNN(nn.Module):\n",
    "    def __init__(self):\n",
    "        super(CNN, self).__init__()\n",
    "        # conv layers\n",
    "        self.conv1 = nn.Conv2d(in_channels=3, out_channels=12, kernel_size=3, stride=2)\n",
    "        self.conv2 = nn.Conv2d(in_channels=12, out_channels=18, kernel_size=3, stride=2)\n",
    "        self.conv3 = nn.Conv2d(in_channels=18, out_channels=3, kernel_size=3, stride=2)\n",
    "        \n",
    "        # dense layers\n",
    "        self.fc1 = nn.Linear(2187 , 1024)\n",
    "        self.fc2 = nn.Linear(1024 , 2)\n",
    "            \n",
    "    def forward(self, X):\n",
    "        X = F.relu(self.conv1(X)) # here, RELU is being treated as a function rather than a layer/module\n",
    "        X = F.relu(self.conv2(X))\n",
    "        X = F.relu(self.conv3(X))\n",
    "        X = X.view(-1, 2187)\n",
    "        X = F.dropout(X, p=0.2)\n",
    "        X = F.relu(self.fc1(X))\n",
    "        X = F.dropout(X, p=0.2)\n",
    "        X = self.fc2(X)\n",
    "        return X"
   ]
  },
  {
   "cell_type": "markdown",
   "id": "2da512bd",
   "metadata": {},
   "source": [
    "# Without PTL"
   ]
  },
  {
   "cell_type": "code",
   "execution_count": 9,
   "id": "944cd7e9",
   "metadata": {},
   "outputs": [
    {
     "name": "stdout",
     "output_type": "stream",
     "text": [
      "Initial State: tensor([ 0.0271, -0.0105])\n",
      "After Loading: tensor([ 0.0071, -0.0110])\n"
     ]
    }
   ],
   "source": [
    "root='./ckpt/'\n",
    "ckpt = os.listdir(root)[0]\n",
    "pre_trained_model=torch.load('./ckpt/' + ckpt)\n",
    "base_model_new = CNN()\n",
    "print(f'Initial State: {base_model_new.state_dict()[\"fc2.bias\"]}')\n",
    "my_model_kvpair=base_model_new.state_dict()\n",
    "for key,value in pre_trained_model['state_dict'].items():\n",
    "    my_key = key[6:]\n",
    "    my_model_kvpair[my_key] = pre_trained_model['state_dict'][key]\n",
    "base_model_new.load_state_dict(my_model_kvpair)\n",
    "print(f'After Loading: {base_model_new.state_dict()[\"fc2.bias\"]}')"
   ]
  }
 ],
 "metadata": {
  "kernelspec": {
   "display_name": "default",
   "language": "python",
   "name": "python3"
  },
  "language_info": {
   "codemirror_mode": {
    "name": "ipython",
    "version": 3
   },
   "file_extension": ".py",
   "mimetype": "text/x-python",
   "name": "python",
   "nbconvert_exporter": "python",
   "pygments_lexer": "ipython3",
   "version": "3.8.10"
  }
 },
 "nbformat": 4,
 "nbformat_minor": 5
}
